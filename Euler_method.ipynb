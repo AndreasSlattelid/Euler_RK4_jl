{
 "cells": [
  {
   "cell_type": "markdown",
   "metadata": {},
   "source": [
    "The goal here is to show how we can implement Euler's method using Julia! \n",
    "Let's consider a disability insurance, this means that $S = \\{*, \\diamond, \\dagger\\}$, we want to find the survivalprobabilities\n",
    "\n",
    "$$\\begin{aligned}\n",
    "P(t,s) &= \n",
    "\\begin{bmatrix}\n",
    "    p_{**}(t,s)         & p_{*\\diamond}(t,s)        & p_{*\\dagger}(t,s) \\\\\n",
    "    p_{\\diamond*}(t,s)  & p_{\\diamond\\diamond}(t,s) & p_{\\diamond\\dagger}(t,s) \\\\\n",
    "    0                   &  0                        & 1\n",
    "\\end{bmatrix}\n",
    "\\end{aligned}$$"
   ]
  },
  {
   "cell_type": "code",
   "execution_count": 3,
   "metadata": {},
   "outputs": [],
   "source": [
    "using LinearAlgebra"
   ]
  },
  {
   "cell_type": "code",
   "execution_count": 12,
   "metadata": {},
   "outputs": [
    {
     "data": {
      "text/plain": [
       "Λ (generic function with 1 method)"
      ]
     },
     "execution_count": 12,
     "metadata": {},
     "output_type": "execute_result"
    }
   ],
   "source": [
    "#states: \n",
    "# 0: alive, 1: disabeld, 2: deceased\n",
    "\n",
    "# Transition rate matrix Λ\n",
    "function Λ(t)\n",
    "    #state0:\n",
    "    μ01(t) = 0.0004 + 10^(0.06*t-5.46)\n",
    "    μ02(t) = 0.0005 + 10^(0.038*t-4.12)\n",
    "    μ00(t) = -(μ01(t) + μ02(t))\n",
    "    #state1:\n",
    "    μ10(t) = 0.05 \n",
    "    μ12(t) = μ02(t)\n",
    "    μ11(t) = -(μ10(t)+μ12(t))\n",
    "    #state2:\n",
    "    # transition rates in the deceased state are zero\n",
    "    \n",
    "    L = [μ00(t) μ01(t) μ02(t)\n",
    "         μ10(t) μ11(t) μ12(t)\n",
    "         0       0     0    ]\n",
    "    \n",
    "    return L\n",
    "end\n"
   ]
  },
  {
   "cell_type": "code",
   "execution_count": 13,
   "metadata": {},
   "outputs": [
    {
     "data": {
      "text/plain": [
       "Euler (generic function with 1 method)"
      ]
     },
     "execution_count": 13,
     "metadata": {},
     "output_type": "execute_result"
    }
   ],
   "source": [
    "function f(t,M)\n",
    "    return M*Λ(t)\n",
    "end\n",
    "\n",
    "function Euler(t0, P0, h, tn)\n",
    "    if t0 == tn\n",
    "        return P0\n",
    "    end\n",
    "\n",
    "    N = Int(round((tn-t0)/h))\n",
    "    D = Int(size(P0)[1])\n",
    "    # store N+1 (DxD)-matricies\n",
    "    P = zeros(Float64,D,D,N+1) \n",
    "    P[:,:,1] = P0 \n",
    "\n",
    "    \n",
    "    for n in 1:N\n",
    "        P[:,:, n+1] = P[:,:,n] + h*f(t0+n*h, P[:,:,n])\n",
    "    end\n",
    "\n",
    "    return P\n",
    "end "
   ]
  },
  {
   "cell_type": "code",
   "execution_count": 14,
   "metadata": {},
   "outputs": [
    {
     "name": "stdout",
     "output_type": "stream",
     "text": [
      "[1.0, 0.9999940650997714, 0.9999881295520607, 0.9999821933566287, 0.9999762565132362, 0.9999703190216436, 0.9999643808816115, 0.9999584420929007, 0.9999525026552715, 0.9999465625684842]"
     ]
    }
   ],
   "source": [
    "t0 = 30 \n",
    "P0 = Matrix(1.0*I, 3,3)\n",
    "h = 1/(365)  #daily stepsize \n",
    "tn = 120\n",
    "\n",
    "sol = Euler(t0, P0, h, tn) # transition probabilities from 30 to 120 with stepsize h =1/12\n",
    "print(sol[1 , 1, 1:10])    # first 10 steps of survival\n"
   ]
  }
 ],
 "metadata": {
  "kernelspec": {
   "display_name": "Julia 1.7.2",
   "language": "julia",
   "name": "julia-1.7"
  },
  "language_info": {
   "file_extension": ".jl",
   "mimetype": "application/julia",
   "name": "julia",
   "version": "1.7.2"
  },
  "orig_nbformat": 4
 },
 "nbformat": 4,
 "nbformat_minor": 2
}
